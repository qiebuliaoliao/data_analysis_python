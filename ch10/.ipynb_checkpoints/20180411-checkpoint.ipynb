{
 "cells": [
  {
   "cell_type": "markdown",
   "metadata": {},
   "source": [
    "# 第10章 时间序列"
   ]
  },
  {
   "cell_type": "markdown",
   "metadata": {},
   "source": [
    "时间序列是一种重要的结构化数据形式，主要有以下几种形式：  \n",
    "- timestamp：特定的时刻\n",
    "- period：如2001年1月\n",
    "- interval：由起始和结束时间表示  \n",
    "\n",
    "pandas提供了一组标准的时间序列处理工具和数据算法，因此可以轻松地进行切片、切块、聚合，对定期/不定期时间序列进行重抽样等。"
   ]
  },
  {
   "cell_type": "markdown",
   "metadata": {},
   "source": [
    "# 1.日期和时间数据类型及工具"
   ]
  },
  {
   "cell_type": "markdown",
   "metadata": {},
   "source": [
    "python标准库中包含date，time数据的数据类型。我们主要会用到datetime, time, calendar模块"
   ]
  },
  {
   "cell_type": "markdown",
   "metadata": {},
   "source": [
    "**获取当前时间**"
   ]
  },
  {
   "cell_type": "code",
   "execution_count": 1,
   "metadata": {
    "collapsed": false
   },
   "outputs": [
    {
     "data": {
      "text/plain": [
       "datetime.datetime(2018, 4, 11, 12, 36, 12, 703191)"
      ]
     },
     "execution_count": 1,
     "metadata": {},
     "output_type": "execute_result"
    }
   ],
   "source": [
    "from datetime import datetime\n",
    "now = datetime.now()\n",
    "now"
   ]
  },
  {
   "cell_type": "code",
   "execution_count": 2,
   "metadata": {
    "collapsed": false
   },
   "outputs": [
    {
     "data": {
      "text/plain": [
       "(2018, 4, 11)"
      ]
     },
     "execution_count": 2,
     "metadata": {},
     "output_type": "execute_result"
    }
   ],
   "source": [
    "now.year, now.month, now.day"
   ]
  },
  {
   "cell_type": "markdown",
   "metadata": {},
   "source": [
    "datetime以毫秒形式存储日期和时间。datetime.timedelta表示两个datetime对象之间的时间差"
   ]
  },
  {
   "cell_type": "code",
   "execution_count": 3,
   "metadata": {
    "collapsed": false
   },
   "outputs": [
    {
     "data": {
      "text/plain": [
       "datetime.timedelta(926, 56700)"
      ]
     },
     "execution_count": 3,
     "metadata": {},
     "output_type": "execute_result"
    }
   ],
   "source": [
    "delta = datetime(2011, 1, 7) - datetime(2008, 6, 24, 8, 15)\n",
    "delta"
   ]
  },
  {
   "cell_type": "code",
   "execution_count": 4,
   "metadata": {
    "collapsed": false
   },
   "outputs": [
    {
     "data": {
      "text/plain": [
       "926"
      ]
     },
     "execution_count": 4,
     "metadata": {},
     "output_type": "execute_result"
    }
   ],
   "source": [
    "delta.days"
   ]
  },
  {
   "cell_type": "code",
   "execution_count": 5,
   "metadata": {
    "collapsed": false
   },
   "outputs": [
    {
     "data": {
      "text/plain": [
       "56700"
      ]
     },
     "execution_count": 5,
     "metadata": {},
     "output_type": "execute_result"
    }
   ],
   "source": [
    "delta.seconds"
   ]
  },
  {
   "cell_type": "markdown",
   "metadata": {},
   "source": [
    "可以给datetime对象加上一个或多个timedelta，这样会产生一个新对象"
   ]
  },
  {
   "cell_type": "code",
   "execution_count": 6,
   "metadata": {
    "collapsed": false
   },
   "outputs": [
    {
     "data": {
      "text/plain": [
       "datetime.datetime(2011, 1, 19, 0, 0)"
      ]
     },
     "execution_count": 6,
     "metadata": {},
     "output_type": "execute_result"
    }
   ],
   "source": [
    "from datetime import timedelta\n",
    "start = datetime(2011, 1, 7)\n",
    "start + timedelta(12)"
   ]
  },
  {
   "cell_type": "code",
   "execution_count": 7,
   "metadata": {
    "collapsed": false
   },
   "outputs": [
    {
     "data": {
      "text/plain": [
       "datetime.datetime(2010, 12, 14, 0, 0)"
      ]
     },
     "execution_count": 7,
     "metadata": {},
     "output_type": "execute_result"
    }
   ],
   "source": [
    "start - 2 * timedelta(12)"
   ]
  },
  {
   "cell_type": "code",
   "execution_count": 24,
   "metadata": {
    "collapsed": false
   },
   "outputs": [
    {
     "data": {
      "text/plain": [
       "'12 days, 0:00:00'"
      ]
     },
     "execution_count": 24,
     "metadata": {},
     "output_type": "execute_result"
    }
   ],
   "source": [
    "str(timedelta(12))"
   ]
  },
  {
   "cell_type": "markdown",
   "metadata": {},
   "source": [
    "# 1.1字符串和datetime的相互转换"
   ]
  },
  {
   "cell_type": "markdown",
   "metadata": {},
   "source": [
    "**datetime——>字符串**  \n",
    "利用str，可以把datetime对象格式化为字符串"
   ]
  },
  {
   "cell_type": "code",
   "execution_count": 8,
   "metadata": {
    "collapsed": true
   },
   "outputs": [],
   "source": [
    "stamp = datetime(2011, 1, 3)"
   ]
  },
  {
   "cell_type": "code",
   "execution_count": 9,
   "metadata": {
    "collapsed": false
   },
   "outputs": [
    {
     "data": {
      "text/plain": [
       "'2011-01-03 00:00:00'"
      ]
     },
     "execution_count": 9,
     "metadata": {},
     "output_type": "execute_result"
    }
   ],
   "source": [
    "str(stamp)"
   ]
  },
  {
   "cell_type": "code",
   "execution_count": 10,
   "metadata": {
    "collapsed": false
   },
   "outputs": [
    {
     "data": {
      "text/plain": [
       "datetime.datetime(2011, 1, 3, 0, 0)"
      ]
     },
     "execution_count": 10,
     "metadata": {},
     "output_type": "execute_result"
    }
   ],
   "source": [
    "stamp"
   ]
  },
  {
   "cell_type": "markdown",
   "metadata": {},
   "source": [
    "strftime可以将datetime换成不同的格式"
   ]
  },
  {
   "cell_type": "code",
   "execution_count": 15,
   "metadata": {
    "collapsed": false
   },
   "outputs": [
    {
     "data": {
      "text/plain": [
       "'2011-01-03'"
      ]
     },
     "execution_count": 15,
     "metadata": {},
     "output_type": "execute_result"
    }
   ],
   "source": [
    "stamp.strftime('%Y-%m-%d')\n",
    "#设置为特定格式"
   ]
  },
  {
   "cell_type": "markdown",
   "metadata": {},
   "source": [
    "datetime的格式有下面这些"
   ]
  },
  {
   "cell_type": "code",
   "execution_count": 17,
   "metadata": {
    "collapsed": false
   },
   "outputs": [],
   "source": [
    "from IPython.display import Image"
   ]
  },
  {
   "cell_type": "code",
   "execution_count": 19,
   "metadata": {
    "collapsed": false
   },
   "outputs": [
    {
     "data": {
      "text/html": [
       "<img src=\"1.png\" width=\"500\" height=\"400\"/>"
      ],
      "text/plain": [
       "<IPython.core.display.Image object>"
      ]
     },
     "execution_count": 19,
     "metadata": {},
     "output_type": "execute_result"
    }
   ],
   "source": [
    "Image(url = '1.png', width = 500, height = 400)"
   ]
  },
  {
   "cell_type": "code",
   "execution_count": 21,
   "metadata": {
    "collapsed": false
   },
   "outputs": [
    {
     "data": {
      "text/html": [
       "<img src=\"2.png\" width=\"600\" height=\"500\"/>"
      ],
      "text/plain": [
       "<IPython.core.display.Image object>"
      ]
     },
     "execution_count": 21,
     "metadata": {},
     "output_type": "execute_result"
    }
   ],
   "source": [
    "Image(url = '2.png', width = 600, height = 500)"
   ]
  },
  {
   "cell_type": "markdown",
   "metadata": {},
   "source": [
    "**字符串——>datetime**"
   ]
  },
  {
   "cell_type": "code",
   "execution_count": 12,
   "metadata": {
    "collapsed": false
   },
   "outputs": [
    {
     "data": {
      "text/plain": [
       "datetime.datetime(2011, 1, 3, 0, 0)"
      ]
     },
     "execution_count": 12,
     "metadata": {},
     "output_type": "execute_result"
    }
   ],
   "source": [
    "value = '2011-01-03'\n",
    "datetime.strptime(value, '%Y-%m-%d')"
   ]
  },
  {
   "cell_type": "code",
   "execution_count": 13,
   "metadata": {
    "collapsed": false
   },
   "outputs": [
    {
     "data": {
      "text/plain": [
       "[datetime.datetime(2011, 7, 6, 0, 0), datetime.datetime(2011, 8, 6, 0, 0)]"
      ]
     },
     "execution_count": 13,
     "metadata": {},
     "output_type": "execute_result"
    }
   ],
   "source": [
    "datestrs = ['7/6/2011', '8/6/2011']\n",
    "[datetime.strptime(x, '%m/%d/%Y') for x in datestrs]"
   ]
  },
  {
   "cell_type": "markdown",
   "metadata": {},
   "source": [
    "# 1.2另一种解析日期格式的方法"
   ]
  },
  {
   "cell_type": "markdown",
   "metadata": {},
   "source": [
    "datetime.striptime是通过已知格式进行日期解析的最佳方式，但是每次都要编写格式的话会很麻烦，尤其是那些常见的日期格式，所以，我们可以用dateutil这个第三方包中的**parse.parse**方法："
   ]
  },
  {
   "cell_type": "code",
   "execution_count": 30,
   "metadata": {
    "collapsed": false
   },
   "outputs": [
    {
     "data": {
      "text/plain": [
       "datetime.datetime(2011, 1, 3, 0, 0)"
      ]
     },
     "execution_count": 30,
     "metadata": {},
     "output_type": "execute_result"
    }
   ],
   "source": [
    "from dateutil.parser import parse\n",
    "import pandas as pd\n",
    "parse('2011-01-03')"
   ]
  },
  {
   "cell_type": "code",
   "execution_count": 26,
   "metadata": {
    "collapsed": false
   },
   "outputs": [
    {
     "data": {
      "text/plain": [
       "datetime.datetime(1997, 1, 31, 22, 45)"
      ]
     },
     "execution_count": 26,
     "metadata": {},
     "output_type": "execute_result"
    }
   ],
   "source": [
    "parse('Jan 31, 1997 10:45 PM')"
   ]
  },
  {
   "cell_type": "code",
   "execution_count": 27,
   "metadata": {
    "collapsed": false
   },
   "outputs": [
    {
     "data": {
      "text/plain": [
       "datetime.datetime(2011, 12, 6, 0, 0)"
      ]
     },
     "execution_count": 27,
     "metadata": {},
     "output_type": "execute_result"
    }
   ],
   "source": [
    "parse('6/12/2011', dayfirst=True)"
   ]
  },
  {
   "cell_type": "markdown",
   "metadata": {},
   "source": [
    "pandas通常用于处理成组日期，比如DataFrame中的轴或者列索引。  \n",
    "pandas的**to_datetime**方法可以解析多种不同的日期表示形式。"
   ]
  },
  {
   "cell_type": "code",
   "execution_count": 28,
   "metadata": {
    "collapsed": false
   },
   "outputs": [
    {
     "data": {
      "text/plain": [
       "['7/6/2011', '8/6/2011']"
      ]
     },
     "execution_count": 28,
     "metadata": {},
     "output_type": "execute_result"
    }
   ],
   "source": [
    "datestrs"
   ]
  },
  {
   "cell_type": "code",
   "execution_count": 32,
   "metadata": {
    "collapsed": false
   },
   "outputs": [
    {
     "data": {
      "text/plain": [
       "DatetimeIndex(['2011-07-06', '2011-08-06'], dtype='datetime64[ns]', freq=None)"
      ]
     },
     "execution_count": 32,
     "metadata": {},
     "output_type": "execute_result"
    }
   ],
   "source": [
    "pd.to_datetime(datestrs)\n",
    "# 日期转换没有'00:00:00'了"
   ]
  },
  {
   "cell_type": "markdown",
   "metadata": {},
   "source": [
    "它还可以用来处理缺失值"
   ]
  },
  {
   "cell_type": "code",
   "execution_count": 33,
   "metadata": {
    "collapsed": false
   },
   "outputs": [
    {
     "data": {
      "text/plain": [
       "DatetimeIndex(['2011-07-06', '2011-08-06', 'NaT'], dtype='datetime64[ns]', freq=None)"
      ]
     },
     "execution_count": 33,
     "metadata": {},
     "output_type": "execute_result"
    }
   ],
   "source": [
    "idx = pd.to_datetime(datestrs + [None])\n",
    "idx"
   ]
  },
  {
   "cell_type": "code",
   "execution_count": 35,
   "metadata": {
    "collapsed": false
   },
   "outputs": [
    {
     "data": {
      "text/plain": [
       "NaT"
      ]
     },
     "execution_count": 35,
     "metadata": {},
     "output_type": "execute_result"
    }
   ],
   "source": [
    "idx[2]\n",
    "# 存在缺失值"
   ]
  },
  {
   "cell_type": "code",
   "execution_count": 36,
   "metadata": {
    "collapsed": false
   },
   "outputs": [
    {
     "data": {
      "text/plain": [
       "array([False, False,  True], dtype=bool)"
      ]
     },
     "execution_count": 36,
     "metadata": {},
     "output_type": "execute_result"
    }
   ],
   "source": [
    "pd.isnull(idx)"
   ]
  },
  {
   "cell_type": "code",
   "execution_count": 40,
   "metadata": {
    "collapsed": false
   },
   "outputs": [
    {
     "data": {
      "text/plain": [
       "Index([2011-07-06 00:00:00, 2011-08-06 00:00:00, 'Missing'], dtype='object')"
      ]
     },
     "execution_count": 40,
     "metadata": {},
     "output_type": "execute_result"
    }
   ],
   "source": [
    "idx.fillna('Missing')"
   ]
  },
  {
   "cell_type": "markdown",
   "metadata": {},
   "source": [
    "# 1.3时间序列基础"
   ]
  },
  {
   "cell_type": "markdown",
   "metadata": {},
   "source": [
    "pandas最基本的时间序列类型就是以timestamp为索引的Series"
   ]
  },
  {
   "cell_type": "code",
   "execution_count": 42,
   "metadata": {
    "collapsed": false
   },
   "outputs": [
    {
     "data": {
      "text/plain": [
       "2011-01-02    0.723262\n",
       "2011-01-05   -0.040427\n",
       "2011-01-07   -1.278755\n",
       "2011-01-08   -0.403372\n",
       "2011-01-10    0.096309\n",
       "2011-01-12   -1.270615\n",
       "dtype: float64"
      ]
     },
     "execution_count": 42,
     "metadata": {},
     "output_type": "execute_result"
    }
   ],
   "source": [
    "from datetime import datetime\n",
    "import numpy as np\n",
    "dates = [datetime(2011, 1, 2), datetime(2011, 1, 5), datetime(2011, 1, 7),\n",
    "         datetime(2011, 1, 8), datetime(2011, 1, 10), datetime(2011, 1, 12)]\n",
    "ts = pd.Series(np.random.randn(6), index=dates)\n",
    "ts"
   ]
  },
  {
   "cell_type": "markdown",
   "metadata": {},
   "source": [
    "现在,ts就变成一个TimeSeries了"
   ]
  },
  {
   "cell_type": "code",
   "execution_count": 43,
   "metadata": {
    "collapsed": false
   },
   "outputs": [
    {
     "data": {
      "text/plain": [
       "pandas.core.series.Series"
      ]
     },
     "execution_count": 43,
     "metadata": {},
     "output_type": "execute_result"
    }
   ],
   "source": [
    "type(ts)"
   ]
  },
  {
   "cell_type": "code",
   "execution_count": 44,
   "metadata": {
    "collapsed": false
   },
   "outputs": [
    {
     "data": {
      "text/plain": [
       "2011-01-02    1.446524\n",
       "2011-01-05         NaN\n",
       "2011-01-07   -2.557511\n",
       "2011-01-08         NaN\n",
       "2011-01-10    0.192618\n",
       "2011-01-12         NaN\n",
       "dtype: float64"
      ]
     },
     "execution_count": 44,
     "metadata": {},
     "output_type": "execute_result"
    }
   ],
   "source": [
    "ts + ts[::2]"
   ]
  },
  {
   "cell_type": "code",
   "execution_count": 48,
   "metadata": {
    "collapsed": false
   },
   "outputs": [
    {
     "data": {
      "text/plain": [
       "2011-01-02    0.723262\n",
       "2011-01-07   -1.278755\n",
       "2011-01-10    0.096309\n",
       "dtype: float64"
      ]
     },
     "execution_count": 48,
     "metadata": {},
     "output_type": "execute_result"
    }
   ],
   "source": [
    "ts[::2]"
   ]
  },
  {
   "cell_type": "markdown",
   "metadata": {},
   "source": [
    "# TimeSeries的索引、选取、子集构造"
   ]
  },
  {
   "cell_type": "markdown",
   "metadata": {},
   "source": [
    "TimeSeries是Series的一个子类，所以在索引及数据选取方面和Series是一样的"
   ]
  },
  {
   "cell_type": "code",
   "execution_count": 49,
   "metadata": {
    "collapsed": false
   },
   "outputs": [
    {
     "data": {
      "text/plain": [
       "-1.278755317944988"
      ]
     },
     "execution_count": 49,
     "metadata": {},
     "output_type": "execute_result"
    }
   ],
   "source": [
    "stamp = ts.index[2]\n",
    "ts[stamp]"
   ]
  },
  {
   "cell_type": "markdown",
   "metadata": {},
   "source": [
    "也可以传入被解释为日期的字符串"
   ]
  },
  {
   "cell_type": "code",
   "execution_count": 50,
   "metadata": {
    "collapsed": false
   },
   "outputs": [
    {
     "data": {
      "text/plain": [
       "0.096309199644055224"
      ]
     },
     "execution_count": 50,
     "metadata": {},
     "output_type": "execute_result"
    }
   ],
   "source": [
    "ts['1/10/2011']"
   ]
  },
  {
   "cell_type": "markdown",
   "metadata": {},
   "source": [
    "对于较长的时间序列，只需传入 年 或者 年月 就可以进行切片"
   ]
  },
  {
   "cell_type": "code",
   "execution_count": 52,
   "metadata": {
    "collapsed": true
   },
   "outputs": [
    {
     "data": {
      "text/plain": [
       "2000-01-01   -0.230527\n",
       "2000-01-02    0.550285\n",
       "2000-01-03    0.134177\n",
       "2000-01-04   -1.702856\n",
       "2000-01-05   -1.759721\n",
       "2000-01-06    1.159631\n",
       "2000-01-07   -0.376138\n",
       "2000-01-08    0.247216\n",
       "2000-01-09    1.346568\n",
       "2000-01-10   -0.486979\n",
       "2000-01-11    0.281456\n",
       "2000-01-12    0.633256\n",
       "2000-01-13   -0.112693\n",
       "2000-01-14    0.131824\n",
       "2000-01-15    0.245397\n",
       "2000-01-16   -0.116126\n",
       "2000-01-17    1.667103\n",
       "2000-01-18    1.188882\n",
       "2000-01-19    2.538886\n",
       "2000-01-20   -0.479999\n",
       "2000-01-21    0.442562\n",
       "2000-01-22   -0.285166\n",
       "2000-01-23   -0.508150\n",
       "2000-01-24    2.093633\n",
       "2000-01-25    0.205784\n",
       "2000-01-26   -0.623640\n",
       "2000-01-27   -0.172223\n",
       "2000-01-28   -1.333404\n",
       "2000-01-29    1.260948\n",
       "2000-01-30   -2.070936\n",
       "                ...   \n",
       "2002-08-28    1.082957\n",
       "2002-08-29    0.998291\n",
       "2002-08-30    0.810699\n",
       "2002-08-31    0.214862\n",
       "2002-09-01   -2.136139\n",
       "2002-09-02   -0.439619\n",
       "2002-09-03   -0.275766\n",
       "2002-09-04   -0.127271\n",
       "2002-09-05   -2.916603\n",
       "2002-09-06   -0.606639\n",
       "2002-09-07   -0.394880\n",
       "2002-09-08   -0.954748\n",
       "2002-09-09   -0.462949\n",
       "2002-09-10   -1.021291\n",
       "2002-09-11   -0.391119\n",
       "2002-09-12   -1.046252\n",
       "2002-09-13   -0.482258\n",
       "2002-09-14    2.981926\n",
       "2002-09-15   -0.986390\n",
       "2002-09-16   -0.071424\n",
       "2002-09-17    0.655730\n",
       "2002-09-18    0.449372\n",
       "2002-09-19   -0.558161\n",
       "2002-09-20    0.010129\n",
       "2002-09-21   -0.216946\n",
       "2002-09-22    0.820797\n",
       "2002-09-23    0.581865\n",
       "2002-09-24   -0.107477\n",
       "2002-09-25    0.459698\n",
       "2002-09-26   -0.723685\n",
       "Freq: D, dtype: float64"
      ]
     },
     "execution_count": 52,
     "metadata": {},
     "output_type": "execute_result"
    }
   ],
   "source": [
    "longer_ts = pd.Series(np.random.randn(1000),\n",
    "                   index=pd.date_range('1/1/2000', periods=1000))\n",
    "longer_ts"
   ]
  },
  {
   "cell_type": "code",
   "execution_count": 53,
   "metadata": {
    "collapsed": false,
    "scrolled": true
   },
   "outputs": [
    {
     "data": {
      "text/plain": [
       "2001-01-01   -0.234237\n",
       "2001-01-02   -0.821772\n",
       "2001-01-03    0.251823\n",
       "2001-01-04   -1.151684\n",
       "2001-01-05    0.561426\n",
       "2001-01-06   -0.011441\n",
       "2001-01-07   -0.096660\n",
       "2001-01-08    1.748163\n",
       "2001-01-09   -2.462276\n",
       "2001-01-10   -0.181436\n",
       "2001-01-11   -0.551715\n",
       "2001-01-12    0.112277\n",
       "2001-01-13    0.364381\n",
       "2001-01-14   -1.701154\n",
       "2001-01-15    0.855690\n",
       "2001-01-16   -0.129744\n",
       "2001-01-17    0.892121\n",
       "2001-01-18   -0.433653\n",
       "2001-01-19   -0.061193\n",
       "2001-01-20   -0.123583\n",
       "2001-01-21   -0.875426\n",
       "2001-01-22   -0.537524\n",
       "2001-01-23    1.755290\n",
       "2001-01-24    0.587609\n",
       "2001-01-25   -2.051877\n",
       "2001-01-26    0.414889\n",
       "2001-01-27   -1.042092\n",
       "2001-01-28    0.967143\n",
       "2001-01-29    0.470026\n",
       "2001-01-30    0.215321\n",
       "                ...   \n",
       "2001-12-02    1.910626\n",
       "2001-12-03   -0.186834\n",
       "2001-12-04   -0.424152\n",
       "2001-12-05    1.386123\n",
       "2001-12-06   -0.697632\n",
       "2001-12-07   -1.561521\n",
       "2001-12-08   -0.929383\n",
       "2001-12-09    0.923648\n",
       "2001-12-10    1.201735\n",
       "2001-12-11   -0.548249\n",
       "2001-12-12   -0.483855\n",
       "2001-12-13   -0.302389\n",
       "2001-12-14    2.868654\n",
       "2001-12-15    0.857610\n",
       "2001-12-16    1.152799\n",
       "2001-12-17   -0.653293\n",
       "2001-12-18    0.100965\n",
       "2001-12-19   -1.639034\n",
       "2001-12-20    0.544202\n",
       "2001-12-21    0.552394\n",
       "2001-12-22    0.213601\n",
       "2001-12-23    1.110133\n",
       "2001-12-24   -0.479112\n",
       "2001-12-25   -1.036912\n",
       "2001-12-26    1.100588\n",
       "2001-12-27   -0.799894\n",
       "2001-12-28   -0.092131\n",
       "2001-12-29    0.314799\n",
       "2001-12-30   -2.705602\n",
       "2001-12-31   -1.484484\n",
       "Freq: D, dtype: float64"
      ]
     },
     "execution_count": 53,
     "metadata": {},
     "output_type": "execute_result"
    }
   ],
   "source": [
    "longer_ts['2001']"
   ]
  },
  {
   "cell_type": "code",
   "execution_count": 54,
   "metadata": {
    "collapsed": false
   },
   "outputs": [
    {
     "data": {
      "text/plain": [
       "2001-05-01   -0.345164\n",
       "2001-05-02    0.420989\n",
       "2001-05-03   -0.549764\n",
       "2001-05-04    0.020090\n",
       "2001-05-05    0.340157\n",
       "2001-05-06    0.013183\n",
       "2001-05-07   -0.786318\n",
       "2001-05-08   -1.500468\n",
       "2001-05-09   -1.188088\n",
       "2001-05-10    0.054422\n",
       "2001-05-11    0.494057\n",
       "2001-05-12   -0.378727\n",
       "2001-05-13   -1.537717\n",
       "2001-05-14    0.339951\n",
       "2001-05-15   -0.025708\n",
       "2001-05-16    1.196398\n",
       "2001-05-17    0.135183\n",
       "2001-05-18   -0.478639\n",
       "2001-05-19    0.193404\n",
       "2001-05-20   -1.402856\n",
       "2001-05-21   -2.122873\n",
       "2001-05-22   -0.732601\n",
       "2001-05-23    0.060487\n",
       "2001-05-24    0.058874\n",
       "2001-05-25    0.026984\n",
       "2001-05-26   -0.176191\n",
       "2001-05-27    0.427269\n",
       "2001-05-28    1.623517\n",
       "2001-05-29    0.857508\n",
       "2001-05-30   -1.958664\n",
       "2001-05-31    0.827976\n",
       "Freq: D, dtype: float64"
      ]
     },
     "execution_count": 54,
     "metadata": {},
     "output_type": "execute_result"
    }
   ],
   "source": [
    "longer_ts['2001-05']"
   ]
  },
  {
   "cell_type": "markdown",
   "metadata": {},
   "source": [
    "通过日期进行切片的方式只对规则的Series有效"
   ]
  },
  {
   "cell_type": "code",
   "execution_count": 55,
   "metadata": {
    "collapsed": false
   },
   "outputs": [
    {
     "data": {
      "text/plain": [
       "2011-01-07   -1.278755\n",
       "2011-01-08   -0.403372\n",
       "2011-01-10    0.096309\n",
       "2011-01-12   -1.270615\n",
       "dtype: float64"
      ]
     },
     "execution_count": 55,
     "metadata": {},
     "output_type": "execute_result"
    }
   ],
   "source": [
    "ts[datetime(2011, 1, 7):]"
   ]
  },
  {
   "cell_type": "markdown",
   "metadata": {},
   "source": [
    "# 带有重复索引的时间序列"
   ]
  },
  {
   "cell_type": "markdown",
   "metadata": {},
   "source": [
    "对于同一个时间点有多个观测值的情况，比如"
   ]
  },
  {
   "cell_type": "code",
   "execution_count": 58,
   "metadata": {
    "collapsed": false
   },
   "outputs": [
    {
     "data": {
      "text/plain": [
       "2000-01-01    0\n",
       "2000-01-02    1\n",
       "2000-01-02    2\n",
       "2000-01-02    3\n",
       "2000-01-03    4\n",
       "dtype: int32"
      ]
     },
     "execution_count": 58,
     "metadata": {},
     "output_type": "execute_result"
    }
   ],
   "source": [
    "dates = pd.DatetimeIndex(['1/1/2000', '1/2/2000', '1/2/2000', '1/2/2000',\n",
    "                          '1/3/2000'])\n",
    "dup_ts = pd.Series(np.arange(5), index=dates)\n",
    "dup_ts"
   ]
  },
  {
   "cell_type": "markdown",
   "metadata": {},
   "source": [
    "首先可以通过is_unique属性来查看是否唯一"
   ]
  },
  {
   "cell_type": "code",
   "execution_count": 59,
   "metadata": {
    "collapsed": false
   },
   "outputs": [
    {
     "data": {
      "text/plain": [
       "False"
      ]
     },
     "execution_count": 59,
     "metadata": {},
     "output_type": "execute_result"
    }
   ],
   "source": [
    "dup_ts.index.is_unique"
   ]
  },
  {
   "cell_type": "markdown",
   "metadata": {},
   "source": [
    "对这个时间序列进行索引，要么产生标量，要么产生切片，这要看具体所选的时间是否重复"
   ]
  },
  {
   "cell_type": "code",
   "execution_count": 60,
   "metadata": {
    "collapsed": false
   },
   "outputs": [
    {
     "data": {
      "text/plain": [
       "4"
      ]
     },
     "execution_count": 60,
     "metadata": {},
     "output_type": "execute_result"
    }
   ],
   "source": [
    "dup_ts['1/3/2000']\n",
    "# 不重复"
   ]
  },
  {
   "cell_type": "code",
   "execution_count": 61,
   "metadata": {
    "collapsed": false
   },
   "outputs": [
    {
     "data": {
      "text/plain": [
       "2000-01-02    1\n",
       "2000-01-02    2\n",
       "2000-01-02    3\n",
       "dtype: int32"
      ]
     },
     "execution_count": 61,
     "metadata": {},
     "output_type": "execute_result"
    }
   ],
   "source": [
    "dup_ts['1/2/2000']\n",
    "# 重复"
   ]
  },
  {
   "cell_type": "markdown",
   "metadata": {},
   "source": [
    "要想对非唯一timestamp的数据进行聚合，可以使用groupby，传入level=0"
   ]
  },
  {
   "cell_type": "code",
   "execution_count": 62,
   "metadata": {
    "collapsed": false
   },
   "outputs": [
    {
     "data": {
      "text/plain": [
       "2000-01-01    0\n",
       "2000-01-02    2\n",
       "2000-01-03    4\n",
       "dtype: int32"
      ]
     },
     "execution_count": 62,
     "metadata": {},
     "output_type": "execute_result"
    }
   ],
   "source": [
    "grouped = dup_ts.groupby(level=0)\n",
    "grouped.mean()"
   ]
  },
  {
   "cell_type": "code",
   "execution_count": 64,
   "metadata": {
    "collapsed": false
   },
   "outputs": [
    {
     "data": {
      "text/plain": [
       "2000-01-01    1\n",
       "2000-01-02    3\n",
       "2000-01-03    1\n",
       "dtype: int64"
      ]
     },
     "execution_count": 64,
     "metadata": {},
     "output_type": "execute_result"
    }
   ],
   "source": [
    "grouped.count()"
   ]
  }
 ],
 "metadata": {
  "anaconda-cloud": {},
  "kernelspec": {
   "display_name": "Python [default]",
   "language": "python",
   "name": "python3"
  },
  "language_info": {
   "codemirror_mode": {
    "name": "ipython",
    "version": 3
   },
   "file_extension": ".py",
   "mimetype": "text/x-python",
   "name": "python",
   "nbconvert_exporter": "python",
   "pygments_lexer": "ipython3",
   "version": "3.5.2"
  }
 },
 "nbformat": 4,
 "nbformat_minor": 1
}
